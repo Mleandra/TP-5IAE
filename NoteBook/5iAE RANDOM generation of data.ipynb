{
 "cells": [
  {
   "cell_type": "markdown",
   "metadata": {},
   "source": [
    "IMPORATATION  DES LIBRAIRIE"
   ]
  },
  {
   "cell_type": "code",
   "execution_count": null,
   "metadata": {},
   "outputs": [],
   "source": [
    "import numpy as np \n",
    "import pandas as pd  \n",
    "import seaborn as sns\n",
    "import matplotlib.pyplot as plt\n",
    "import sklearn as sk"
   ]
  },
  {
   "cell_type": "markdown",
   "metadata": {},
   "source": [
    "importation  du  jeu de données"
   ]
  },
  {
   "cell_type": "code",
   "execution_count": null,
   "metadata": {},
   "outputs": [],
   "source": [
    "df = pd.read_csv('../Data/flights.csv') "
   ]
  },
  {
   "cell_type": "code",
   "execution_count": null,
   "metadata": {},
   "outputs": [],
   "source": [
    "df.info()"
   ]
  },
  {
   "cell_type": "code",
   "execution_count": null,
   "metadata": {},
   "outputs": [],
   "source": [
    "df.describe()\n"
   ]
  },
  {
   "cell_type": "code",
   "execution_count": null,
   "metadata": {},
   "outputs": [],
   "source": [
    "def data_info(data):\n",
    "    info_dict = {\n",
    "\n",
    "\n",
    "    'nombre de valeurs non null': data.count().tolist(), # contage des valeurs non nulles de chaque colonne   de notre dataframe\n",
    "    'nombre de valeurs null': data.shape[0] -data.count(),\n",
    "\n",
    "    'type': data.dtypes.tolist(), # affiche le type de chaque colonne\n",
    "\n",
    "    '% de valeurs Null' : ( data.shape[0] - data.count()) * 100 /  data.shape[0] ,# Calcul du pourcentage de valeurs nulles\n",
    "\n",
    "    'valeurs uniques' : data.nunique().tolist(),# affiche le nombre de valeurs uniques de chaque colonne\n",
    "\n",
    "    }\n",
    "    return pd.DataFrame(info_dict)"
   ]
  },
  {
   "cell_type": "code",
   "execution_count": null,
   "metadata": {},
   "outputs": [],
   "source": [
    "data_info(df)"
   ]
  },
  {
   "cell_type": "code",
   "execution_count": null,
   "metadata": {},
   "outputs": [],
   "source": []
  }
 ],
 "metadata": {
  "language_info": {
   "name": "python"
  }
 },
 "nbformat": 4,
 "nbformat_minor": 2
}
